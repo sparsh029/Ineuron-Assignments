{
 "cells": [
  {
   "cell_type": "code",
   "execution_count": 6,
   "metadata": {},
   "outputs": [
    {
     "name": "stdout",
     "output_type": "stream",
     "text": [
      "Can't divide by zero\n"
     ]
    }
   ],
   "source": [
    "#Q1 Write a function to compute 5/0 and use try/except to catch the exceptions.\n",
    "def divide():\n",
    "    return 5/0\n",
    "\n",
    "try:\n",
    "    divide()\n",
    "except ZeroDivisionError:\n",
    "    print(\"Can't divide by zero\")\n",
    "except:\n",
    "    print(\"Other exception found\")"
   ]
  },
  {
   "cell_type": "code",
   "execution_count": 10,
   "metadata": {},
   "outputs": [
    {
     "name": "stdout",
     "output_type": "stream",
     "text": [
      "Americans Play Baseball\n",
      "Americans Play cricket\n",
      "Americans watch  Baseball\n",
      "Americans watch  cricket\n",
      "Indians Play Baseball\n",
      "Indians Play cricket\n",
      "Indians watch  Baseball\n",
      "Indians watch  cricket\n"
     ]
    }
   ],
   "source": [
    "#Q2 Implement a Python program to generate all sentences where subject is in [\"Americans\", \"Indians\"] and verb is in [\"Play\", \"watch\"] and the object is in[\"Baseball\",\"cricket\"].\n",
    "\n",
    "\n",
    "subject=['Americans','Indians']\n",
    "verb=['Play', 'watch ']\n",
    "Object=['Baseball', 'cricket']\n",
    "all_sentences = []\n",
    "for sub1 in subject:\n",
    "        for verb1 in verb:\n",
    "                   for obj1 in Object:\n",
    "                        all_sentences.append(sub1 +\" \"+ verb1 +\" \"+obj1)\n",
    "for i in all_sentences:\n",
    "       print((i)) "
   ]
  },
  {
   "cell_type": "code",
   "execution_count": null,
   "metadata": {},
   "outputs": [],
   "source": []
  }
 ],
 "metadata": {
  "kernelspec": {
   "display_name": "Python 3",
   "language": "python",
   "name": "python3"
  },
  "language_info": {
   "codemirror_mode": {
    "name": "ipython",
    "version": 3
   },
   "file_extension": ".py",
   "mimetype": "text/x-python",
   "name": "python",
   "nbconvert_exporter": "python",
   "pygments_lexer": "ipython3",
   "version": "3.7.6"
  }
 },
 "nbformat": 4,
 "nbformat_minor": 4
}
